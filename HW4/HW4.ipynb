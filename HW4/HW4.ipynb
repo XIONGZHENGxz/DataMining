{
 "cells": [
  {
   "cell_type": "markdown",
   "metadata": {},
   "source": [
    "# EE 380L: Data Mining\n",
    "## Assignment 4\n",
    "\n",
    "Due: Mar 28 at 11:59 pm  \n",
    "Total points: 50\n",
    "\n",
    "You may work in pairs. Only one student per pair needs to submit the assignment on Canvas, but you should include names and UTEIDs for both students."
   ]
  },
  {
   "cell_type": "markdown",
   "metadata": {},
   "source": [
    "# Question 1: Decision Tree using Python (7 pts)\n",
    "In this problem, you will model the data using decision trees to perform a classification task. Load the BreastTissue.csv dataset in the Q1 folder. The dataset has been preprocessed. The description of the dataset can be found [here](https://archive.ics.uci.edu/ml/datasets/Breast+Tissue). Using the class tree.DecisionTreeClassifier (http://scikit-learn.org/stable/modules/classes.html#module-sklearn.tree), build two different trees with a maximum depth of two using the split criteria (i) Gini and (ii) Entropy. Use entire data to build trees. Plot the two trees. If your classifier object is called clf, use the following commands to save the generated tree as a '.dot' file that can be used to visualize the tree using Webgraphviz: http://www.webgraphviz.com/\n",
    "\n",
    "Hint: see  http://scikit-learn.org/stable/modules/generated/sklearn.tree.export_graphviz.html"
   ]
  },
  {
   "cell_type": "raw",
   "metadata": {},
   "source": [
    "from sklearn import tree\n",
    "from sklearn.externals.six import StringIO\n",
    "\n",
    "with open(\"decision_tree_gini.dot\", 'w') as f:\n",
    "    f = tree.export_graphviz(clf, out_file=f)\n",
    "    "
   ]
  },
  {
   "cell_type": "code",
   "execution_count": 13,
   "metadata": {
    "collapsed": false
   },
   "outputs": [],
   "source": [
    "from sklearn import tree\n",
    "import pandas as pd\n",
    "import numpy as np\n",
    "original_data=pd.read_csv(\"Q1/BreastTissue.csv\")\n",
    "data=original_data.as_matrix()\n",
    "data=data[:,1:]\n",
    "Y=data[:,0]\n",
    "X=data[:,1:]\n",
    "clf_gini=tree.DecisionTreeClassifier(criterion='gini',max_depth=2)\n",
    "clf_gini.fit(X,Y)\n",
    "clf_entropy=tree.DecisionTreeClassifier(criterion='entropy',max_depth=2)\n",
    "clf_entropy.fit(X,Y)\n",
    "with open(\"decision_tree_gini.dot\",\"w\") as f:\n",
    "    f=tree.export_graphviz(clf_gini,out_file=f)\n",
    "with open(\"decision_tree_entropy.dot\",\"w\") as f:\n",
    "    f=tree.export_graphviz(clf_entropy,out_file=f)\n"
   ]
  },
  {
   "cell_type": "markdown",
   "metadata": {},
   "source": [
    "Copy paste the contents of your '.dot' file into the text window on the website to visualize the trees. At which node(s) do they differ?\n",
    "\n",
    "# decision tree using gini criterion\n",
    "![title](gini_tree.jpg)\n",
    "# decision tree using entropy criterion\n",
    "![title](entropy_tree.jpg)\n",
    "\n",
    "# Answer\n",
    "As we can see from the two trees, they actually differ at all nodes. gini based decision using two features and entropy based decision tree using three features. Although they both use the first and nineth feature to classify, the order of using the two features are different. "
   ]
  },
  {
   "cell_type": "markdown",
   "metadata": {},
   "source": [
    "# Question 2: Bayesian Networks (10 pts)\n",
    "In the Bayesian Network shown below, the nodes represent the following random variables: S stands for \"Smoking\", LC for \"Lung Cancer\", B for \"Bronchitis\", T for \"Tuberculosis\", D for \"Dyspnea\". The necessary conditional probabilities are provided alongside. "
   ]
  },
  {
   "cell_type": "code",
   "execution_count": 14,
   "metadata": {
    "collapsed": false
   },
   "outputs": [
    {
     "data": {
      "image/png": "[encoded data removed]",
      "text/plain": [
       "<IPython.core.display.Image object>"
      ]
     },
     "execution_count": 14,
     "metadata": {},
     "output_type": "execute_result"
    }
   ],
   "source": [
    "from IPython.display import Image\n",
    "Image(filename='BayesianNetworks.png')\n"
   ]
  },
  {
   "cell_type": "markdown",
   "metadata": {},
   "source": [
    "$$Pr(S = yes) = 0.1$$\n",
    "$$Pr(LC = yes | S = yes) = 0.03$$\n",
    "$$Pr(LC = yes | S = no) = 0.01$$\n",
    "$$Pr(B = yes | S = yes) = 0.06$$\n",
    "$$Pr(B = yes | S = no) = 0.02$$\n",
    "$$Pr(T = yes | LC = yes, B = yes) = 0.8$$\n",
    "$$Pr(T = yes | LC = yes, B = no) = 0.5$$\n",
    "$$Pr(T = yes | LC = no, B = yes) = 0.1$$\n",
    "$$Pr(T = yes | LC = no, B = no) = 0.04$$\n",
    "$$Pr(D = yes | T = yes, B = yes) = 0.9$$\n",
    "$$Pr(D = yes | T = yes, B = no) = 0.7$$\n",
    "$$Pr(D = yes | T = no, B = yes) = 0.65$$\n",
    "$$Pr(D = yes | T = no, B = no) = 0.015$$"
   ]
  },
  {
   "cell_type": "code",
   "execution_count": 15,
   "metadata": {
    "collapsed": false
   },
   "outputs": [
    {
     "name": "stdout",
     "output_type": "stream",
     "text": [
      "\n",
      "Q2(a)\n",
      "\n",
      "Pr(D=yes)= 0.061313164\n",
      "\n",
      "Q2(b)\n",
      "\n",
      "Pr(D=yes,B=yes,LC=no)= 0.015957\n",
      "\n",
      "Q2(c)\n",
      "\n",
      "Pr(B=yes,LC=no)= 0.02364\n",
      "Pr(D=yes|B=yes,LC=no)= 0.675\n",
      "\n",
      "Q2(d)\n",
      "\n",
      "Pr(T=yes,S=yes)= 0.0057832\n",
      "Pr(T=yes|S=yes)=Pr(T=yes,S=yes)/Pr(S=yes)= 0.057832\n"
     ]
    }
   ],
   "source": [
    "print '\\nQ2(a)\\n'\n",
    "pd={0:[[0.9,0.7],[0.65,0.015]],1:[[0.1,0.3],[0.35,0.985]]}\n",
    "pt={0:[[0.8,0.1],[0.5,0.04]],1:[[0.2,0.9],[0.5,0.96]]}\n",
    "pb={0:[0.06,0.02],1:[0.94,0.98]}\n",
    "plc={0:[0.03,0.01],1:[0.97,0.99]}\n",
    "ps=[0.1,0.9]\n",
    "sum=0\n",
    "for i in range(2):\n",
    "    for j in range(2):\n",
    "        for u in range(2):\n",
    "            for k in range(2):\n",
    "                sum+=pd[0][i][j]*pt[i][j][u]*pb[j][k]*plc[u][k]*ps[k]\n",
    "print 'Pr(D=yes)=',sum\n",
    "\n",
    "print '\\nQ2(b)\\n'\n",
    "sum=0\n",
    "for i in range(2):\n",
    "    j=0\n",
    "    u=1\n",
    "    for k in range(2):\n",
    "        sum+=pd[0][i][j]*pt[i][j][u]*pb[j][k]*plc[u][k]*ps[k]\n",
    "print 'Pr(D=yes,B=yes,LC=no)=',sum\n",
    "\n",
    "print '\\nQ2(c)\\n'\n",
    "#calculate Pr(B=yes,LC=no)\n",
    "pblc=0 #p(B=yes,LC=no)\n",
    "for d in range(2):\n",
    "    for i in range(2):\n",
    "        j=0\n",
    "        u=1\n",
    "        for k in range(2):\n",
    "            pblc+=pd[d][i][j]*pt[i][j][u]*pb[j][k]*plc[u][k]*ps[k]\n",
    "print 'Pr(B=yes,LC=no)=',pblc\n",
    "print 'Pr(D=yes|B=yes,LC=no)=',sum/pblc\n",
    "\n",
    "print '\\nQ2(d)\\n'\n",
    "#calculate Pr(T=yes,S=yes)\n",
    "p=0 \n",
    "for d in range(2):\n",
    "    for j in range(2):\n",
    "        for u in range(2):\n",
    "            i,k=0,0\n",
    "            p+=pd[d][i][j]*pt[i][j][u]*pb[j][k]*plc[u][k]*ps[k]\n",
    "print 'Pr(T=yes,S=yes)=',p\n",
    "print 'Pr(T=yes|S=yes)=Pr(T=yes,S=yes)/Pr(S=yes)=',p/ps[0]"
   ]
  },
  {
   "cell_type": "markdown",
   "metadata": {},
   "source": [
    "Compute the following probabilities:\n",
    "\n",
    "(a) (2 pts) $Pr(D = yes)$\n",
    "\n",
    "(b) (2 pts) $Pr(LC = no, B = yes, D = yes)$\n",
    "\n",
    "(c) (3 pts) Given that a person has Bronchitis (B = yes) and no Lung Cancer (LC = no), the probability he will has symptoms of Dyspnea (D = yes).\n",
    "\n",
    "(d) (3 pts) Given that a person is a smoker (S = yes), the probability he will get infected with Tuberculosis (T = yes).\n",
    "\n",
    "# Answer\n",
    "(a) $$Pr(D,B,T,LC,S)=Pr(D|T,B)Pr(T|B,LC)Pr(B|S)Pr(LC|S)Pr(S)$$\n",
    "$$Pr(D=yes)=\\sum Pr(D=yes,B,T,LC,S)$$\n",
    "    $$=0.061313164$$\n",
    "\n",
    "(b) $$Pr(LC=no,B=yes,D=yes)=\\sum Pr(LC=no,B=yes,D=yes,T,S)$$\n",
    "    $$=0.01597$$\n",
    "\n",
    "(c) $$Pr(D=yes|B=yes,T=yes)$$\n",
    "$$=Pr(D=yes,B=yes,T=yes)/Pr(B=yes,T=yes)$$\n",
    "    $$=0.675$$\n",
    "\n",
    "(d) $$Pr(T=yes|S=yes)=Pr(T=yes,S=yes)/Pr(S=yes)$$\n",
    "    $$=0.057832$$"
   ]
  },
  {
   "cell_type": "markdown",
   "metadata": {},
   "source": [
    "# Question 3: Logistic Regression (10 pts)\n",
    "In this question, we will explore the use of Logistic Regression. We use MAGIC Gamma Telescope Data Set. The dataset can be found at https://archive.ics.uci.edu/ml/datasets/MAGIC+Gamma+Telescope. It has 19020 instances with 11 attributes. The task is to classify the instance as signal (target = 1, positive) or background (target = 0, negative).\n",
    "The data have been split into training and test datasets. You can find them in the Q3&Q4 folder. Standardize the columns so they all have mean 0 and unit variance.\n",
    "\n",
    "(a) (6 pts) Fit a ridge logistic regression (i.e., logistic regression with a ridge penalty) model using scikit learn package. Use 10-fold cross-validation to choose the strength of the regularization ('C' parameter). Maintain all other parameters as default. Report the mean error rate (fraction of incorrect labels) on both the training and test sets.\n",
    "\n",
    "(b) (4 pts) Plot the receiver operating characteristic (ROC) curve on the test data. Report the area under the ROC curve (AUC).\n",
    "\n",
    "Hint: see http://scikit-learn.org/stable/auto_examples/model_selection/plot_roc.html  and \n",
    "\n",
    "http://scikit-learn.org/stable/modules/generated/sklearn.metrics.auc.html"
   ]
  },
  {
   "cell_type": "code",
   "execution_count": 16,
   "metadata": {
    "collapsed": false
   },
   "outputs": [
    {
     "name": "stdout",
     "output_type": "stream",
     "text": [
      "\n",
      "Q3(a)\n",
      "\n",
      "0.35938136638\n",
      "The best C parameter is:  0.35938136638\n",
      "0.211785956198\n",
      "0.20380387367\n",
      "\n",
      "Q3(b)\n",
      "\n"
     ]
    },
    {
     "data": {
      "image/png": "[encoded data removed]",
      "text/plain": [
       "<matplotlib.figure.Figure at 0x7ff021c79790>"
      ]
     },
     "metadata": {},
     "output_type": "display_data"
    },
    {
     "name": "stdout",
     "output_type": "stream",
     "text": [
      "The area under the ROC is:  0.847398741589\n"
     ]
    }
   ],
   "source": [
    "import pandas as pd\n",
    "import numpy as np\n",
    "from sklearn import preprocessing,linear_model\n",
    "from sklearn.model_selection import KFold\n",
    "\n",
    "def label(tag):\n",
    "    if tag=='h':\n",
    "        return 0\n",
    "    elif tag=='g':\n",
    "        return 1\n",
    "    else:\n",
    "        return -1\n",
    "    \n",
    "def kFoldCV(n,X,Y,model):\n",
    "    kf=KFold(n_splits=n)\n",
    "    error_rates=[]\n",
    "    for train,test in kf.split(X):\n",
    "        model.fit(X[train],Y[train])\n",
    "        error_rates.append(1-model.score(X[test],Y[test]))\n",
    "    return np.mean(error_rates)\n",
    "\n",
    "# (a)\n",
    "print '\\nQ3(a)\\n'\n",
    "data_train=pd.read_csv(\"Q3&Q4/magic_train.csv\")\n",
    "data_test=pd.read_csv(\"Q3&Q4/magic_test.csv\")\n",
    "train=data_train.as_matrix()\n",
    "test=data_test.as_matrix()\n",
    "X=train[:,:-1]\n",
    "X=preprocessing.scale(X)\n",
    "test_x=test[:,:-1]\n",
    "test_x=preprocessing.scale(test_x)\n",
    "test_y=np.asarray(map(label,test[:,-1]))\n",
    "Y=np.asarray(map(label,train[:,-1]))\n",
    "# C=np.linspace(0.0001,10,100)\n",
    "# dic={}\n",
    "# for c in C:\n",
    "#     clf=linear_model.LogisticRegression(penalty='l2',C=c)\n",
    "#     mean_error_rate=kFoldCV(10,X,Y,clf)\n",
    "#     dic[c]=mean_error_rate\n",
    "clf=linear_model.LogisticRegressionCV(cv=10)\n",
    "clf.fit(X,Y)\n",
    "print clf.C_[0]\n",
    "# best_c=min(dic,key=dic.get)\n",
    "best_c=clf.C_[0]\n",
    "print 'The best C parameter is: ',best_c\n",
    "clf=linear_model.LogisticRegression(penalty='l2',C=best_c)\n",
    "clf.fit(X,Y)\n",
    "train_error=1-clf.score(X,Y)\n",
    "print train_error\n",
    "test_error=1-clf.score(test_x,test_y)\n",
    "print test_error\n",
    "\n",
    "print '\\nQ3(b)\\n'\n",
    "from sklearn.metrics import roc_curve,auc\n",
    "import matplotlib.pyplot as plt\n",
    "y_score = clf.decision_function(test_x)\n",
    "\n",
    "# Compute ROC curve and ROC area \n",
    "fpr = []\n",
    "tpr = []\n",
    "fpr, tpr, _ = roc_curve(test_y, y_score)\n",
    "plt.figure()\n",
    "plt.plot(fpr,tpr,color='blue',label='ROC curve')\n",
    "plt.xlim([0.0,1.0])\n",
    "plt.ylim([0.0,1.0])\n",
    "plt.title('Receiver operating characteristic')\n",
    "plt.xlabel('False Positive')\n",
    "plt.ylabel('True Positive')\n",
    "plt.show()\n",
    "roc_auc = auc(fpr, tpr)\n",
    "print 'The area under the ROC is: ',roc_auc"
   ]
  },
  {
   "cell_type": "markdown",
   "metadata": {},
   "source": [
    "# Question 4: Support Vector Machines (14 pts)\n",
    "(a) (6 pts) Apply a linear SVM (kernel = 'linear'), using the scikit-SVM (http://scikit-learn.org/stable/modules/generated/sklearn.svm.SVC.html#sklearn.svm.SVC) on the standardized MAGIC Gamma Telescope Data Set. The data have been split into training and test datasets. You can find them in the Q3&Q4 folder. Standardize the columns so they all have mean 0 and unit variance. Specify how you chose the cost penalty ('C' parameter) for the model. Maintain all other parameters as default. \n",
    "\n",
    "Hint: see http://scikit-learn.org/stable/modules/generated/sklearn.grid_search.GridSearchCV.html will make 10-fold cross-validation easier. (GridSearchCV is one way to select parameters for a model. You may use it in your answer, or you may use other ways to solve the problem.)\n",
    "\n",
    "(b) (4 pts) Repeat (a) but using a Gaussian radial basis kernel (RBF kernel).\n",
    "\n",
    "(c) (4 pts) Summarize the comparative performance (mean error rates on both the training and test sets) of all the classifiers (Ridge Logistic Regression, SVM with linear kernel, SVM with RBF kernel) that you applied to the MAGIC Gamma Telescope Data Set in this homework in a table. What do you conclude? (be brief)"
   ]
  },
  {
   "cell_type": "code",
   "execution_count": 18,
   "metadata": {
    "collapsed": false
   },
   "outputs": [
    {
     "name": "stdout",
     "output_type": "stream",
     "text": [
      "\n",
      "Q4(a)\n",
      "\n",
      "The best C parameter is:  5.0\n",
      "with linear kernel:\n",
      "\n",
      "Training error rate is:  0.212538571536\n",
      "Testing error rate is:  0.201361019019\n",
      "\n",
      "Q4(b)\n",
      "with rbf kernel:\n",
      "\n",
      "training error rate is:  0.117031685106\n",
      "testing error rate is:  0.129994765311\n",
      "\n",
      "Q4(c)\n",
      "\n",
      "Classifier                 training error         testing error\n",
      "Ridge logistic regression   0.211785956198        0.20380387367\n",
      "SVM(kernel=linear)          0.212538571536        0.201361019019\n",
      "SVM(kernel=rbf)             0.117031685106        0.129994765311\n",
      "From the table, we can conclude that different model perform differently on same dataset, we need to\n",
      "try different models and select the best one. For SVM, different kernels result in different error rate\n",
      "in this problem, rbf outperfoms linear kernel. When we use SVM to model data, we need to try and select the best kernel\n"
     ]
    }
   ],
   "source": [
    "from sklearn.svm import SVC\n",
    "from sklearn import grid_search\n",
    "from sklearn.model_selection import GridSearchCV\n",
    "import pandas as pd\n",
    "\n",
    "print '\\nQ4(a)\\n'\n",
    "data_train=pd.read_csv(\"Q3&Q4/magic_train.csv\")\n",
    "data_test=pd.read_csv(\"Q3&Q4/magic_test.csv\")\n",
    "train=data_train.as_matrix()\n",
    "test=data_test.as_matrix()\n",
    "X=train[:,:-1]\n",
    "X=preprocessing.scale(X)\n",
    "test_x=test[:,:-1]\n",
    "test_x=preprocessing.scale(test_x)\n",
    "test_y=np.asarray(map(label,test[:,-1]))\n",
    "Y=np.asarray(map(label,train[:,-1]))\n",
    "C=np.linspace(1,10,10)\n",
    "# dic={}\n",
    "# for c in C:\n",
    "#     clf=SVC(kernel='linear',C=c)\n",
    "#     mean_error_rate=kFoldCV(10,X,Y,clf)\n",
    "#     dic[c]=mean_error_rate\n",
    "# best_c=min(dic,key=dic.get)\n",
    "svc=SVC(kernel='linear')\n",
    "params={'C':C}\n",
    "clf=GridSearchCV(svc,params,cv=10)\n",
    "clf.fit(X,Y)\n",
    "best_c=clf.best_params_['C']\n",
    "print 'The best C parameter is: ',best_c\n",
    "clf=SVC(kernel='linear',C=best_c)\n",
    "clf.fit(X,Y)\n",
    "train_error=1-clf.score(X,Y)\n",
    "print 'with linear kernel:\\n'\n",
    "print 'Training error rate is: ',train_error\n",
    "test_error=1-clf.score(test_x,test_y)\n",
    "print 'Testing error rate is: ',test_error\n",
    "clf=SVC(kernel='rbf',C=best_c)\n",
    "clf.fit(X,Y)\n",
    "train_error=1-clf.score(X,Y)\n",
    "print '\\nQ4(b)'\n",
    "print 'with rbf kernel:\\n'\n",
    "print 'training error rate is: ',train_error\n",
    "test_error=1-clf.score(test_x,test_y)\n",
    "print 'testing error rate is: ',test_error\n",
    "print '\\nQ4(c)\\n'\n",
    "\n",
    "print 'Classifier                 training error         testing error'\n",
    "print 'Ridge logistic regression   0.211785956198        0.20380387367'\n",
    "print 'SVM(kernel=linear)          0.212538571536        0.201361019019'\n",
    "print 'SVM(kernel=rbf)             0.117031685106        0.129994765311'\n",
    "print 'From the table, we can conclude that different model perform differently on same dataset, we need to'\n",
    "print 'try different models and select the best one. For SVM, different kernels result in different error rate'\n",
    "print 'in this problem, rbf outperfoms linear kernel. When we use SVM to model data, we need to try and select the best kernel'"
   ]
  },
  {
   "cell_type": "markdown",
   "metadata": {},
   "source": [
    "# Question 5:\n",
    "(4 pts) What are two properties of Naïve Bayes that make it so suitable for parallel/distributed computation and for analyzing \"streaming\" data (e.g. each document is processed only once and need not be further stored or revisited).\n",
    "\n",
    "# Answer\n",
    "\n",
    "(1) All the attributes are independent among each other when class is given. So given the data, we could calculate the probability of each attribute in a particular class. \n",
    "(2) To  classify a new data point, we just need to update the pror and the conditional likelihood, and then calculate the posterior probability of this instance belonging to a specific class. If this posterior is greater than 0.5, this instance belongs to this specific class, otehrwise, it belongs to the other class. So, there is no need to do calculation based on all data points, which indicates it is suitable for analyzing streaming data."
   ]
  },
  {
   "cell_type": "markdown",
   "metadata": {},
   "source": [
    "# Question 6:\n",
    "(5 pts) Receiver operating characteristic (ROC) are created by changing a  decision threshold (to decide when to classify an input as belonging to the positive class) in a binary classifier. While some classifiers yield a natural choice for threshold  by comparing with the (estimated value of the) posterior probability of the positive class given the input, other classifiers do not. Select one classifier among decision trees, K nearest neighbors, or support vector machines, and describe how the ROC curve can be drawn for the selected classifier. "
   ]
  },
  {
   "cell_type": "markdown",
   "metadata": {
    "collapsed": true
   },
   "source": [
    "# Answer\n",
    "\n",
    "In a ROC curve, the x-axis is FPR, y-axis is TPR. It is created by changing a decision threshold. For K nearest neighbors, the threshold here is the number of neighbors needed to classify an instance. For example, if we have 4-NN, we could make a rule: classify an instance as class 0 only 4 neighbors are class 0 or a less sensitive rule: classify an instance as class 0 only 3 neighbors are class 0, etc. By choosing different number of neighbors needed to classfify, then calculate the TPR and FPR respectively, we could draw the ROC curve. For multiclass problem, we could draw multiple curves, each curve for every two classes.  "
   ]
  }
 ],
 "metadata": {
  "kernelspec": {
   "display_name": "Python 2",
   "language": "python",
   "name": "python2"
  },
  "language_info": {
   "codemirror_mode": {
    "name": "ipython",
    "version": 2
   },
   "file_extension": ".py",
   "mimetype": "text/x-python",
   "name": "python",
   "nbconvert_exporter": "python",
   "pygments_lexer": "ipython2",
   "version": "2.7.12"
  }
 },
 "nbformat": 4,
 "nbformat_minor": 2
}
